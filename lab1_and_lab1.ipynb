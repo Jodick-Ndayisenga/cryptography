{
 "cells": [
  {
   "cell_type": "markdown",
   "metadata": {},
   "source": [
    "##### KEY GENERATION USING PRIME NUMBERS, GCD, AND GENERATION OF RANDOM NUMBERS \n",
    "##### In this program, we will generate keys using random numbers, relatively prime numbers and euler's numbers using PYTHON."
   ]
  },
  {
   "cell_type": "code",
   "execution_count": 1,
   "metadata": {},
   "outputs": [],
   "source": [
    "import random #import random library to help us chose p and q\n",
    "from math import gcd #import gcd library to help us calculate the gcd of two numbers"
   ]
  },
  {
   "cell_type": "code",
   "execution_count": 2,
   "metadata": {},
   "outputs": [],
   "source": [
    "#Initialization of a function that checks if the number is prime or not\n",
    "\n",
    "def is_prime(num):\n",
    "    if num == 2: # keeping in mind that 2 is also prime number so we return true\n",
    "        return True\n",
    "    \n",
    "    if num < 2 or num % 2 == 0: # if the number is less than 2 or the number is even we return false\n",
    "        return False\n",
    "    \n",
    "    for current in range(3, int(num ** 0.5) + 1): #we are checking for all numbers in range 3 to the half of the number\n",
    "        if num % current == 0:\n",
    "            return False\n",
    "    return True"
   ]
  },
  {
   "cell_type": "markdown",
   "metadata": {},
   "source": [
    "##### The function bellow, given start and end numbers, it generates all the prime numbers in between using the support of the function is_prime we initialized above"
   ]
  },
  {
   "cell_type": "code",
   "execution_count": 3,
   "metadata": {},
   "outputs": [],
   "source": [
    "# Function to generate a list of prime numbers within a given range\n",
    "def generate_primes(start, end):\n",
    "    return [num for num in range(start, end + 1) if is_prime(num)]"
   ]
  },
  {
   "cell_type": "markdown",
   "metadata": {},
   "source": [
    "##### The function bellow, given an array of prime numbers, it randomly choses two prime numbers using the random library we imported"
   ]
  },
  {
   "cell_type": "code",
   "execution_count": 4,
   "metadata": {},
   "outputs": [],
   "source": [
    "# Function to randomly select two prime numbers from the list\n",
    "def select_two_primes(primes):\n",
    "    return random.sample(primes, 2)"
   ]
  },
  {
   "cell_type": "markdown",
   "metadata": {},
   "source": [
    "#### NOW LET'S GENERATE THOSE TWO RANDOM NUMBERS "
   ]
  },
  {
   "cell_type": "code",
   "execution_count": 6,
   "metadata": {},
   "outputs": [
    {
     "name": "stdout",
     "output_type": "stream",
     "text": [
      "Selected prime numbers: p = 37, q = 67\n"
     ]
    }
   ],
   "source": [
    "start = 10 # Starting range is 10\n",
    "end = 100 # Ending range is 100\n",
    "primes = generate_primes(start, end) # Generate a list of prime numbers within the range\n",
    "p, q = select_two_primes(primes) # Select two prime numbers from the list\n",
    "print(f\"Selected prime numbers: p = {p}, q = {q}\") # Print the selected prime numbers"
   ]
  },
  {
   "cell_type": "markdown",
   "metadata": {},
   "source": [
    "##### This function bellow, given a prime number, it calculates all the relative prime numbers using Euler's algorithm"
   ]
  },
  {
   "cell_type": "code",
   "execution_count": 5,
   "metadata": {},
   "outputs": [],
   "source": [
    "# Function to calculate Euler's Totient Function\n",
    "def euler_totient(n):\n",
    "    count = 0\n",
    "    for i in range(1, n):\n",
    "        if gcd(n, i) == 1:\n",
    "            count += 1\n",
    "    return count"
   ]
  },
  {
   "cell_type": "code",
   "execution_count": 7,
   "metadata": {},
   "outputs": [
    {
     "name": "stdout",
     "output_type": "stream",
     "text": [
      "Euler's Totient Function values: φ(p) = 36, φ(q) = 66\n"
     ]
    }
   ],
   "source": [
    "# Calculate Euler's Totient Function values\n",
    "totient_values_p = euler_totient(p)\n",
    "totient_values_q = euler_totient(q)\n",
    "print(f\"Euler's Totient Function values: φ(p) = {totient_values_p}, φ(q) = {totient_values_q}\")"
   ]
  },
  {
   "cell_type": "markdown",
   "metadata": {},
   "source": [
    "<strong style=\"color:yellow; font-size:30px\">Jodick Ndayisenga</strong>"
   ]
  }
 ],
 "metadata": {
  "kernelspec": {
   "display_name": "Python 3",
   "language": "python",
   "name": "python3"
  },
  "language_info": {
   "codemirror_mode": {
    "name": "ipython",
    "version": 3
   },
   "file_extension": ".py",
   "mimetype": "text/x-python",
   "name": "python",
   "nbconvert_exporter": "python",
   "pygments_lexer": "ipython3",
   "version": "3.11.4"
  }
 },
 "nbformat": 4,
 "nbformat_minor": 2
}
